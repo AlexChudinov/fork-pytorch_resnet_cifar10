{
 "cells": [
  {
   "cell_type": "code",
   "execution_count": null,
   "id": "7a9ae7c0-afa2-467e-a49f-66165e7fc507",
   "metadata": {},
   "outputs": [],
   "source": [
    "# Сравнение CIFARnet и ResNet18"
   ]
  }
 ],
 "metadata": {
  "kernelspec": {
   "display_name": "Python 3 (ipykernel)",
   "language": "python",
   "name": "python3"
  },
  "language_info": {
   "codemirror_mode": {
    "name": "ipython",
    "version": 3
   },
   "file_extension": ".py",
   "mimetype": "text/x-python",
   "name": "python",
   "nbconvert_exporter": "python",
   "pygments_lexer": "ipython3",
   "version": "3.10.12"
  }
 },
 "nbformat": 4,
 "nbformat_minor": 5
}
